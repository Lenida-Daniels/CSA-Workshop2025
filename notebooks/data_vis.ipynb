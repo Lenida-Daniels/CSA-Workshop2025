{
 "cells": [
  {
   "cell_type": "markdown",
   "id": "85749700-f983-495a-87c6-177da8dd4c95",
   "metadata": {},
   "source": [
    "# Data Visualization"
   ]
  },
  {
   "cell_type": "code",
   "execution_count": 1,
   "id": "858df66f-627f-4dbf-82e2-9a2d013dedf3",
   "metadata": {},
   "outputs": [],
   "source": [
    "#import required libraries\n",
    "import numpy as np\n",
    "import matplotlib.pyplot as plt\n",
    "import seaborn as sns\n",
    "import pandas as pd"
   ]
  },
  {
   "cell_type": "code",
   "execution_count": 2,
   "id": "2507d808-f8b4-4d79-a39f-e890b77c6363",
   "metadata": {},
   "outputs": [
    {
     "name": "stdout",
     "output_type": "stream",
     "text": [
      "Requirement already satisfied: openpyxl in c:\\users\\sheikh\\anaconda3\\envs\\ds_env\\lib\\site-packages (3.1.5)\n",
      "Requirement already satisfied: et-xmlfile in c:\\users\\sheikh\\anaconda3\\envs\\ds_env\\lib\\site-packages (from openpyxl) (1.1.0)\n"
     ]
    }
   ],
   "source": [
    "!pip install openpyxl"
   ]
  },
  {
   "cell_type": "code",
   "execution_count": null,
   "id": "a45a5f2e-752e-4043-ad0f-966dd53710d4",
   "metadata": {},
   "outputs": [],
   "source": []
  },
  {
   "cell_type": "code",
   "execution_count": 3,
   "id": "1bf885be-2d32-4642-814e-4fd457f36aa8",
   "metadata": {},
   "outputs": [],
   "source": [
    "#LOAD DATA\n",
    "df=pd.read_csv(\"../data/gapminder.csv\")\n",
    "titanic=pd.read_excel(\"../data/titanic.xlsx\")\n",
    "join_data1=pd.read_csv(\"../data/joining_data1.csv\")\n",
    "join_data2=pd.read_csv(\"../data/joining_data2.csv\")\n",
    "union_data=pd.read_csv(\"../data/union_data.csv\")"
   ]
  },
  {
   "cell_type": "code",
   "execution_count": 4,
   "id": "b84ad5c5-c5d3-44d0-a725-7b794e7b4bb8",
   "metadata": {},
   "outputs": [],
   "source": [
    "join_left=pd.merge(left=join_data1,\n",
    "                  right=join_data2,\n",
    "                   how=\"left\",\n",
    "                   on=\"name\"\n",
    "                  )"
   ]
  },
  {
   "cell_type": "code",
   "execution_count": 5,
   "id": "46eeb5a0-051b-4260-a29d-f041533f02c4",
   "metadata": {},
   "outputs": [],
   "source": [
    "join_right=pd.merge(left=join_data1,\n",
    "                  right=join_data2,\n",
    "                   how=\"right\",\n",
    "                   on=\"name\"\n",
    "                  )"
   ]
  },
  {
   "cell_type": "code",
   "execution_count": 6,
   "id": "050687a4-fd11-4adf-b691-fd4620c91965",
   "metadata": {},
   "outputs": [
    {
     "data": {
      "text/html": [
       "<div>\n",
       "<style scoped>\n",
       "    .dataframe tbody tr th:only-of-type {\n",
       "        vertical-align: middle;\n",
       "    }\n",
       "\n",
       "    .dataframe tbody tr th {\n",
       "        vertical-align: top;\n",
       "    }\n",
       "\n",
       "    .dataframe thead th {\n",
       "        text-align: right;\n",
       "    }\n",
       "</style>\n",
       "<table border=\"1\" class=\"dataframe\">\n",
       "  <thead>\n",
       "    <tr style=\"text-align: right;\">\n",
       "      <th></th>\n",
       "      <th>name</th>\n",
       "      <th>animal</th>\n",
       "      <th>age</th>\n",
       "      <th>vaccinated</th>\n",
       "    </tr>\n",
       "  </thead>\n",
       "  <tbody>\n",
       "    <tr>\n",
       "      <th>0</th>\n",
       "      <td>Catalie Portman</td>\n",
       "      <td>cat</td>\n",
       "      <td>3</td>\n",
       "      <td>True</td>\n",
       "    </tr>\n",
       "    <tr>\n",
       "      <th>1</th>\n",
       "      <td>Pico de Gato</td>\n",
       "      <td>cat</td>\n",
       "      <td>5</td>\n",
       "      <td>True</td>\n",
       "    </tr>\n",
       "    <tr>\n",
       "      <th>2</th>\n",
       "      <td>Chewbarka</td>\n",
       "      <td>dog</td>\n",
       "      <td>1</td>\n",
       "      <td>False</td>\n",
       "    </tr>\n",
       "    <tr>\n",
       "      <th>3</th>\n",
       "      <td>Sir Isaac Mewton</td>\n",
       "      <td>cat</td>\n",
       "      <td>7</td>\n",
       "      <td>True</td>\n",
       "    </tr>\n",
       "    <tr>\n",
       "      <th>4</th>\n",
       "      <td>K9</td>\n",
       "      <td>cat</td>\n",
       "      <td>11</td>\n",
       "      <td>False</td>\n",
       "    </tr>\n",
       "    <tr>\n",
       "      <th>5</th>\n",
       "      <td>Arf Vader</td>\n",
       "      <td>dog</td>\n",
       "      <td>6</td>\n",
       "      <td>NaN</td>\n",
       "    </tr>\n",
       "  </tbody>\n",
       "</table>\n",
       "</div>"
      ],
      "text/plain": [
       "               name animal  age vaccinated\n",
       "0   Catalie Portman    cat    3       True\n",
       "1      Pico de Gato    cat    5       True\n",
       "2         Chewbarka    dog    1      False\n",
       "3  Sir Isaac Mewton    cat    7       True\n",
       "4                K9    cat   11      False\n",
       "5         Arf Vader    dog    6        NaN"
      ]
     },
     "execution_count": 6,
     "metadata": {},
     "output_type": "execute_result"
    }
   ],
   "source": [
    "join_left"
   ]
  },
  {
   "cell_type": "code",
   "execution_count": 7,
   "id": "28029946-d6f1-44c5-906f-345915081ef6",
   "metadata": {},
   "outputs": [
    {
     "data": {
      "text/html": [
       "<div>\n",
       "<style scoped>\n",
       "    .dataframe tbody tr th:only-of-type {\n",
       "        vertical-align: middle;\n",
       "    }\n",
       "\n",
       "    .dataframe tbody tr th {\n",
       "        vertical-align: top;\n",
       "    }\n",
       "\n",
       "    .dataframe thead th {\n",
       "        text-align: right;\n",
       "    }\n",
       "</style>\n",
       "<table border=\"1\" class=\"dataframe\">\n",
       "  <thead>\n",
       "    <tr style=\"text-align: right;\">\n",
       "      <th></th>\n",
       "      <th>name</th>\n",
       "      <th>animal</th>\n",
       "      <th>age</th>\n",
       "      <th>vaccinated</th>\n",
       "    </tr>\n",
       "  </thead>\n",
       "  <tbody>\n",
       "    <tr>\n",
       "      <th>0</th>\n",
       "      <td>Catalie Portman</td>\n",
       "      <td>cat</td>\n",
       "      <td>3.0</td>\n",
       "      <td>True</td>\n",
       "    </tr>\n",
       "    <tr>\n",
       "      <th>1</th>\n",
       "      <td>Pico de Gato</td>\n",
       "      <td>cat</td>\n",
       "      <td>5.0</td>\n",
       "      <td>True</td>\n",
       "    </tr>\n",
       "    <tr>\n",
       "      <th>2</th>\n",
       "      <td>Chewbarka</td>\n",
       "      <td>dog</td>\n",
       "      <td>1.0</td>\n",
       "      <td>False</td>\n",
       "    </tr>\n",
       "    <tr>\n",
       "      <th>3</th>\n",
       "      <td>Sir Isaac Mewton</td>\n",
       "      <td>cat</td>\n",
       "      <td>7.0</td>\n",
       "      <td>True</td>\n",
       "    </tr>\n",
       "    <tr>\n",
       "      <th>4</th>\n",
       "      <td>K9</td>\n",
       "      <td>cat</td>\n",
       "      <td>11.0</td>\n",
       "      <td>False</td>\n",
       "    </tr>\n",
       "    <tr>\n",
       "      <th>5</th>\n",
       "      <td>Spiderpig</td>\n",
       "      <td>NaN</td>\n",
       "      <td>NaN</td>\n",
       "      <td>True</td>\n",
       "    </tr>\n",
       "  </tbody>\n",
       "</table>\n",
       "</div>"
      ],
      "text/plain": [
       "               name animal   age  vaccinated\n",
       "0   Catalie Portman    cat   3.0        True\n",
       "1      Pico de Gato    cat   5.0        True\n",
       "2         Chewbarka    dog   1.0       False\n",
       "3  Sir Isaac Mewton    cat   7.0        True\n",
       "4                K9    cat  11.0       False\n",
       "5         Spiderpig    NaN   NaN        True"
      ]
     },
     "execution_count": 7,
     "metadata": {},
     "output_type": "execute_result"
    }
   ],
   "source": [
    "join_right"
   ]
  },
  {
   "cell_type": "markdown",
   "id": "04e9ff02-6eec-47bc-b7bc-aa7816573ec7",
   "metadata": {},
   "source": [
    "# Aggregation"
   ]
  },
  {
   "cell_type": "code",
   "execution_count": 8,
   "id": "ee866a9f-cdd2-4499-a2d5-b94115f85d0e",
   "metadata": {},
   "outputs": [
    {
     "data": {
      "text/plain": [
       "Index(['pclass', 'survived', 'name', 'sex', 'age', 'sibsp', 'parch', 'ticket',\n",
       "       'fare', 'cabin', 'embarked', 'home.dest', 'body', 'boat'],\n",
       "      dtype='object')"
      ]
     },
     "execution_count": 8,
     "metadata": {},
     "output_type": "execute_result"
    }
   ],
   "source": [
    "titanic.columns"
   ]
  },
  {
   "cell_type": "code",
   "execution_count": 9,
   "id": "0c8b1d06-211a-48ed-bb78-7724998d6fc7",
   "metadata": {},
   "outputs": [
    {
     "data": {
      "text/plain": [
       "array(['female', 'male'], dtype=object)"
      ]
     },
     "execution_count": 9,
     "metadata": {},
     "output_type": "execute_result"
    }
   ],
   "source": [
    "titanic[\"sex\"].unique()"
   ]
  },
  {
   "cell_type": "code",
   "execution_count": 10,
   "id": "14b67b59-0ba7-4c50-8d54-8faa0c0b097a",
   "metadata": {},
   "outputs": [
    {
     "data": {
      "text/plain": [
       "sex\n",
       "male      843\n",
       "female    466\n",
       "Name: count, dtype: int64"
      ]
     },
     "execution_count": 10,
     "metadata": {},
     "output_type": "execute_result"
    }
   ],
   "source": [
    "#count passengers by sex\n",
    "titanic[\"sex\"].value_counts()"
   ]
  },
  {
   "cell_type": "code",
   "execution_count": 11,
   "id": "2013a287-c3c4-4747-8c65-539344fc4f5f",
   "metadata": {},
   "outputs": [
    {
     "data": {
      "text/html": [
       "<div>\n",
       "<style scoped>\n",
       "    .dataframe tbody tr th:only-of-type {\n",
       "        vertical-align: middle;\n",
       "    }\n",
       "\n",
       "    .dataframe tbody tr th {\n",
       "        vertical-align: top;\n",
       "    }\n",
       "\n",
       "    .dataframe thead th {\n",
       "        text-align: right;\n",
       "    }\n",
       "</style>\n",
       "<table border=\"1\" class=\"dataframe\">\n",
       "  <thead>\n",
       "    <tr style=\"text-align: right;\">\n",
       "      <th></th>\n",
       "      <th>sum</th>\n",
       "      <th>mean</th>\n",
       "    </tr>\n",
       "    <tr>\n",
       "      <th>sex</th>\n",
       "      <th></th>\n",
       "      <th></th>\n",
       "    </tr>\n",
       "  </thead>\n",
       "  <tbody>\n",
       "    <tr>\n",
       "      <th>female</th>\n",
       "      <td>339</td>\n",
       "      <td>0.727468</td>\n",
       "    </tr>\n",
       "    <tr>\n",
       "      <th>male</th>\n",
       "      <td>161</td>\n",
       "      <td>0.190985</td>\n",
       "    </tr>\n",
       "  </tbody>\n",
       "</table>\n",
       "</div>"
      ],
      "text/plain": [
       "        sum      mean\n",
       "sex                  \n",
       "female  339  0.727468\n",
       "male    161  0.190985"
      ]
     },
     "execution_count": 11,
     "metadata": {},
     "output_type": "execute_result"
    }
   ],
   "source": [
    "#check survival by sex\n",
    "titanic.groupby([\"sex\"])[\"survived\"].agg([\"sum\",\"mean\"])"
   ]
  },
  {
   "cell_type": "markdown",
   "id": "e4bcde80-6c05-46c1-afc2-8ac68207a660",
   "metadata": {},
   "source": [
    "## Pivot Table"
   ]
  },
  {
   "cell_type": "code",
   "execution_count": 12,
   "id": "a1a6d443-0632-4c15-a707-04d1720448ea",
   "metadata": {},
   "outputs": [
    {
     "data": {
      "text/html": [
       "<div>\n",
       "<style scoped>\n",
       "    .dataframe tbody tr th:only-of-type {\n",
       "        vertical-align: middle;\n",
       "    }\n",
       "\n",
       "    .dataframe tbody tr th {\n",
       "        vertical-align: top;\n",
       "    }\n",
       "\n",
       "    .dataframe thead th {\n",
       "        text-align: right;\n",
       "    }\n",
       "</style>\n",
       "<table border=\"1\" class=\"dataframe\">\n",
       "  <thead>\n",
       "    <tr style=\"text-align: right;\">\n",
       "      <th></th>\n",
       "      <th>fare</th>\n",
       "    </tr>\n",
       "    <tr>\n",
       "      <th>sex</th>\n",
       "      <th></th>\n",
       "    </tr>\n",
       "  </thead>\n",
       "  <tbody>\n",
       "    <tr>\n",
       "      <th>female</th>\n",
       "      <td>46.198097</td>\n",
       "    </tr>\n",
       "    <tr>\n",
       "      <th>male</th>\n",
       "      <td>26.154601</td>\n",
       "    </tr>\n",
       "  </tbody>\n",
       "</table>\n",
       "</div>"
      ],
      "text/plain": [
       "             fare\n",
       "sex              \n",
       "female  46.198097\n",
       "male    26.154601"
      ]
     },
     "execution_count": 12,
     "metadata": {},
     "output_type": "execute_result"
    }
   ],
   "source": [
    "titanic_pivot=titanic.pivot_table(values=\"fare\",index=\"sex\",aggfunc='mean')\n",
    "titanic_pivot"
   ]
  },
  {
   "cell_type": "code",
   "execution_count": 13,
   "id": "8b3a9fc9-06e0-4e78-a8ec-4799a012afff",
   "metadata": {},
   "outputs": [],
   "source": [
    "titanic_copy=titanic.copy()"
   ]
  },
  {
   "cell_type": "code",
   "execution_count": 14,
   "id": "4cc00c55-8670-4427-9b16-bd1c6e2b78b8",
   "metadata": {},
   "outputs": [
    {
     "data": {
      "text/plain": [
       "Index(['pclass', 'survived', 'name', 'sex', 'age', 'sibsp', 'parch', 'ticket',\n",
       "       'fare', 'cabin', 'embarked', 'home.dest', 'body', 'boat'],\n",
       "      dtype='object')"
      ]
     },
     "execution_count": 14,
     "metadata": {},
     "output_type": "execute_result"
    }
   ],
   "source": [
    "titanic_copy.columns"
   ]
  },
  {
   "cell_type": "code",
   "execution_count": 15,
   "id": "50ce7f8b-25cb-40a8-8f57-802414491f22",
   "metadata": {},
   "outputs": [],
   "source": [
    "titanic_copy.rename(columns={'sex':'gender'},inplace=True)"
   ]
  },
  {
   "cell_type": "code",
   "execution_count": 16,
   "id": "2bc9db7f-bac4-4334-90c4-f8394f502cd7",
   "metadata": {},
   "outputs": [
    {
     "data": {
      "text/plain": [
       "Index(['pclass', 'survived', 'name', 'gender', 'age', 'sibsp', 'parch',\n",
       "       'ticket', 'fare', 'cabin', 'embarked', 'home.dest', 'body', 'boat'],\n",
       "      dtype='object')"
      ]
     },
     "execution_count": 16,
     "metadata": {},
     "output_type": "execute_result"
    }
   ],
   "source": [
    "titanic_copy.columns"
   ]
  },
  {
   "cell_type": "code",
   "execution_count": 17,
   "id": "dd4b05cf-cd19-43f7-b76a-2969f19443d6",
   "metadata": {},
   "outputs": [
    {
     "data": {
      "text/plain": [
       "Index(['Pclass', 'Survived', 'Name', 'Gender', 'Age', 'Sibsp', 'Parch',\n",
       "       'Ticket', 'Fare', 'Cabin', 'Embarked', 'Home.dest', 'Body', 'Boat'],\n",
       "      dtype='object')"
      ]
     },
     "execution_count": 17,
     "metadata": {},
     "output_type": "execute_result"
    }
   ],
   "source": [
    "titanic_copy=titanic_copy.columns.str.capitalize()\n",
    "titanic_copy"
   ]
  },
  {
   "cell_type": "code",
   "execution_count": 18,
   "id": "27397ed1-4ef9-4079-8555-617a9bf88bc9",
   "metadata": {},
   "outputs": [
    {
     "ename": "TypeError",
     "evalue": "Categorical input must be list-like",
     "output_type": "error",
     "traceback": [
      "\u001b[1;31m---------------------------------------------------------------------------\u001b[0m",
      "\u001b[1;31mTypeError\u001b[0m                                 Traceback (most recent call last)",
      "Cell \u001b[1;32mIn[18], line 1\u001b[0m\n\u001b[1;32m----> 1\u001b[0m \u001b[43mtitanic_copy\u001b[49m\u001b[38;5;241;43m.\u001b[39;49m\u001b[43mgroupby\u001b[49m\u001b[43m(\u001b[49m\u001b[38;5;124;43m\"\u001b[39;49m\u001b[38;5;124;43mgender\u001b[39;49m\u001b[38;5;124;43m\"\u001b[39;49m\u001b[43m)\u001b[49m[\u001b[38;5;124m\"\u001b[39m\u001b[38;5;124mfare\u001b[39m\u001b[38;5;124m\"\u001b[39m]\u001b[38;5;241m.\u001b[39magg([\u001b[38;5;124m'\u001b[39m\u001b[38;5;124mmean\u001b[39m\u001b[38;5;124m'\u001b[39m,\u001b[38;5;124m'\u001b[39m\u001b[38;5;124mmax\u001b[39m\u001b[38;5;124m'\u001b[39m,\u001b[38;5;124m'\u001b[39m\u001b[38;5;124mmin\u001b[39m\u001b[38;5;124m'\u001b[39m])\n",
      "File \u001b[1;32m~\\anaconda3\\envs\\ds_env\\lib\\site-packages\\pandas\\core\\indexes\\base.py:6446\u001b[0m, in \u001b[0;36mIndex.groupby\u001b[1;34m(self, values)\u001b[0m\n\u001b[0;32m   6444\u001b[0m \u001b[38;5;28;01mif\u001b[39;00m \u001b[38;5;28misinstance\u001b[39m(values, ABCMultiIndex):\n\u001b[0;32m   6445\u001b[0m     values \u001b[38;5;241m=\u001b[39m values\u001b[38;5;241m.\u001b[39m_values\n\u001b[1;32m-> 6446\u001b[0m values \u001b[38;5;241m=\u001b[39m \u001b[43mCategorical\u001b[49m\u001b[43m(\u001b[49m\u001b[43mvalues\u001b[49m\u001b[43m)\u001b[49m\n\u001b[0;32m   6447\u001b[0m result \u001b[38;5;241m=\u001b[39m values\u001b[38;5;241m.\u001b[39m_reverse_indexer()\n\u001b[0;32m   6449\u001b[0m \u001b[38;5;66;03m# map to the label\u001b[39;00m\n",
      "File \u001b[1;32m~\\anaconda3\\envs\\ds_env\\lib\\site-packages\\pandas\\core\\arrays\\categorical.py:406\u001b[0m, in \u001b[0;36mCategorical.__init__\u001b[1;34m(self, values, categories, ordered, dtype, fastpath, copy)\u001b[0m\n\u001b[0;32m    402\u001b[0m     \u001b[38;5;28;01mreturn\u001b[39;00m\n\u001b[0;32m    404\u001b[0m \u001b[38;5;28;01mif\u001b[39;00m \u001b[38;5;129;01mnot\u001b[39;00m is_list_like(values):\n\u001b[0;32m    405\u001b[0m     \u001b[38;5;66;03m# GH#38433\u001b[39;00m\n\u001b[1;32m--> 406\u001b[0m     \u001b[38;5;28;01mraise\u001b[39;00m \u001b[38;5;167;01mTypeError\u001b[39;00m(\u001b[38;5;124m\"\u001b[39m\u001b[38;5;124mCategorical input must be list-like\u001b[39m\u001b[38;5;124m\"\u001b[39m)\n\u001b[0;32m    408\u001b[0m \u001b[38;5;66;03m# null_mask indicates missing values we want to exclude from inference.\u001b[39;00m\n\u001b[0;32m    409\u001b[0m \u001b[38;5;66;03m# This means: only missing values in list-likes (not arrays/ndframes).\u001b[39;00m\n\u001b[0;32m    410\u001b[0m null_mask \u001b[38;5;241m=\u001b[39m np\u001b[38;5;241m.\u001b[39marray(\u001b[38;5;28;01mFalse\u001b[39;00m)\n",
      "\u001b[1;31mTypeError\u001b[0m: Categorical input must be list-like"
     ]
    }
   ],
   "source": [
    "titanic_copy.groupby(\"gender\")[\"fare\"].agg(['mean','max','min'])"
   ]
  },
  {
   "cell_type": "code",
   "execution_count": null,
   "id": "cbf0dfb5-0446-44e7-9932-80c5c2d5ed3a",
   "metadata": {},
   "outputs": [],
   "source": [
    "titanic_copy.iloc[[0]]"
   ]
  },
  {
   "cell_type": "code",
   "execution_count": null,
   "id": "fa44a5c7-5365-442f-bb92-6be6cf794d63",
   "metadata": {},
   "outputs": [],
   "source": [
    "#rows,columns\n",
    "titanic_copy.iloc[[1,4],[1,3]]"
   ]
  },
  {
   "cell_type": "code",
   "execution_count": null,
   "id": "3a0e42a5-4149-4d6a-a514-9531d507301a",
   "metadata": {},
   "outputs": [],
   "source": [
    "titanic_copy.loc[0:5]"
   ]
  },
  {
   "cell_type": "code",
   "execution_count": null,
   "id": "b62ec650-e5b7-4282-b6de-b940504b6ba6",
   "metadata": {},
   "outputs": [],
   "source": [
    "titanic_copy.tail()"
   ]
  },
  {
   "cell_type": "markdown",
   "id": "cc70f651-1afd-44e4-9a08-6c49f18758ee",
   "metadata": {},
   "source": [
    "## iloc"
   ]
  },
  {
   "cell_type": "code",
   "execution_count": null,
   "id": "bece21c2-8e9e-4084-b395-f0aeaed0b109",
   "metadata": {},
   "outputs": [],
   "source": [
    "titanic_copy.iloc[0]"
   ]
  },
  {
   "cell_type": "code",
   "execution_count": null,
   "id": "e237b3a8-24eb-414d-9397-fc598c2d65d2",
   "metadata": {},
   "outputs": [],
   "source": [
    "titanic_copy.iloc[[0]]"
   ]
  },
  {
   "cell_type": "code",
   "execution_count": null,
   "id": "d73a5eb8-d2e9-47e9-99f9-700320ed228b",
   "metadata": {},
   "outputs": [],
   "source": [
    "titanic_copy.iloc[[0,2]]"
   ]
  },
  {
   "cell_type": "code",
   "execution_count": null,
   "id": "0aaa5150-2e43-4c35-82cc-b2fa44c9c462",
   "metadata": {},
   "outputs": [],
   "source": [
    "titanic_copy.iloc[0,5]"
   ]
  },
  {
   "cell_type": "code",
   "execution_count": null,
   "id": "8e98045a-2735-4367-9e59-52aa73bbe5e2",
   "metadata": {},
   "outputs": [],
   "source": [
    "titanic_copy.loc[0]"
   ]
  },
  {
   "cell_type": "code",
   "execution_count": null,
   "id": "3a86fa75-60bf-4a4f-b474-b8ad3808bf69",
   "metadata": {},
   "outputs": [],
   "source": [
    "titanic_copy.loc[[0]]"
   ]
  },
  {
   "cell_type": "code",
   "execution_count": null,
   "id": "63e319b3-f46c-478b-ae80-491ceea93742",
   "metadata": {},
   "outputs": [],
   "source": [
    "titanic_copy.loc[0:2]"
   ]
  },
  {
   "cell_type": "code",
   "execution_count": null,
   "id": "72fd034d-e976-4e36-a56c-bdf9c2902040",
   "metadata": {},
   "outputs": [],
   "source": [
    "titanic_copy.loc[0:5,[\"fare\"]]"
   ]
  },
  {
   "cell_type": "code",
   "execution_count": null,
   "id": "ad9b2cc5-e364-4caa-b4b6-68d50726a19c",
   "metadata": {},
   "outputs": [],
   "source": [
    "titanic_copy.iloc[10:15]"
   ]
  },
  {
   "cell_type": "markdown",
   "id": "9b4115a2-33e4-4bc5-a38c-a3ed86543b5d",
   "metadata": {},
   "source": [
    "# sort_values"
   ]
  },
  {
   "cell_type": "code",
   "execution_count": null,
   "id": "79e7cef5-d675-4ffb-91d2-1ea48d683cae",
   "metadata": {},
   "outputs": [],
   "source": [
    "join_data1.sort_values(by=\"age\",ascending=True)"
   ]
  },
  {
   "cell_type": "code",
   "execution_count": null,
   "id": "febdbb41-5b06-4e51-b83a-c45b25696e2a",
   "metadata": {},
   "outputs": [],
   "source": [
    "join_data2.sort_values(by=\"vaccinated\",ascending=True)"
   ]
  },
  {
   "cell_type": "code",
   "execution_count": null,
   "id": "6bb73cf0-d3e9-4b73-98c6-7eb409151298",
   "metadata": {},
   "outputs": [],
   "source": [
    "join_data1[\"name\"].unique()"
   ]
  },
  {
   "cell_type": "code",
   "execution_count": null,
   "id": "d2fd08d3-940f-4472-b56f-02749d0b0262",
   "metadata": {},
   "outputs": [],
   "source": [
    "join_data2[\"name\"].unique()"
   ]
  },
  {
   "cell_type": "code",
   "execution_count": null,
   "id": "3ceafd14-7674-4b1f-9e90-b5450a1b7f1c",
   "metadata": {},
   "outputs": [],
   "source": [
    "titanic_copy.columns"
   ]
  },
  {
   "cell_type": "code",
   "execution_count": null,
   "id": "5b9fdb92-057e-49a0-875a-434942e7995a",
   "metadata": {},
   "outputs": [],
   "source": [
    "sns.countplot(x=\"survived\",data=titanic_copy,color=\"pink\",label=\"survived\")\n",
    "plt.title(\"Survival Count\",color=\"skyblue\")\n",
    "plt.legend();"
   ]
  },
  {
   "cell_type": "code",
   "execution_count": null,
   "id": "873f262c-4ad4-4e4b-852b-c80f7d59f2ec",
   "metadata": {},
   "outputs": [],
   "source": [
    "titanic_copy[\"age\"].hist(bins=10)\n",
    "plt.title(\"Age Distribution\");"
   ]
  },
  {
   "cell_type": "code",
   "execution_count": null,
   "id": "360f36d5-3826-4183-a26e-dc264410da85",
   "metadata": {},
   "outputs": [],
   "source": [
    "titanic_copy[\"fare\"].hist(bins=30)\n",
    "plt.title(\"Fare Distribution\");"
   ]
  },
  {
   "cell_type": "code",
   "execution_count": null,
   "id": "8dab07ae-e39e-4317-8a77-2abdb352bcf0",
   "metadata": {},
   "outputs": [],
   "source": [
    "titanic_copy[\"pclass\"].hist(bins=30)\n",
    "plt.title(\"passenger class distribution\");"
   ]
  },
  {
   "cell_type": "code",
   "execution_count": null,
   "id": "f052e553-23a6-4629-a85b-00c7d3f19583",
   "metadata": {},
   "outputs": [],
   "source": [
    "sns.boxplot(x=\"pclass\",y=\"age\",data=titanic_copy)\n",
    "plt.title(\"Age Distribution by class\");"
   ]
  },
  {
   "cell_type": "code",
   "execution_count": null,
   "id": "edcf61ec-f7e4-4c37-9796-1f53aacbc9de",
   "metadata": {},
   "outputs": [],
   "source": [
    "sns.heatmap(titanic.isnull(),cbar=True,cmap=\"viridis\")\n",
    "plt.title(\"Missing Values Heatmap\");"
   ]
  },
  {
   "cell_type": "code",
   "execution_count": null,
   "id": "3f7d3381-a579-4bde-8bff-bfc3b9a46705",
   "metadata": {},
   "outputs": [],
   "source": []
  },
  {
   "cell_type": "code",
   "execution_count": null,
   "id": "c8a3e499-bfef-4df6-9921-1eb6c323965a",
   "metadata": {},
   "outputs": [],
   "source": []
  },
  {
   "cell_type": "code",
   "execution_count": null,
   "id": "786b9ec2-1cd8-42aa-9d4a-660a666a6406",
   "metadata": {},
   "outputs": [],
   "source": []
  },
  {
   "cell_type": "code",
   "execution_count": null,
   "id": "575a078f-e67f-4303-bf86-763a14dd0a3f",
   "metadata": {},
   "outputs": [],
   "source": []
  },
  {
   "cell_type": "code",
   "execution_count": null,
   "id": "60de03db-f9d7-457a-afdf-f397a49d31cf",
   "metadata": {},
   "outputs": [],
   "source": [
    "#titanic_copy=titanic_copy.columns.str.upper()\n",
    "#titanic_copy.columns"
   ]
  },
  {
   "cell_type": "code",
   "execution_count": null,
   "id": "11e4c946-9877-4b50-a896-573bbed1769f",
   "metadata": {},
   "outputs": [],
   "source": [
    "#titanic_copy.groupby(\"gender\")[\"fare\"].agg(['mean','max','min'])"
   ]
  },
  {
   "cell_type": "markdown",
   "id": "cb2de336-e04c-4030-80e8-1fdac0f7441d",
   "metadata": {},
   "source": [
    "# Assignment\n",
    "1. Does the ticket fare, passenger, family onboard(parch) class afffect chances survival?\n",
    "2. "
   ]
  },
  {
   "cell_type": "code",
   "execution_count": null,
   "id": "77d2d03b-b874-4fd9-91e1-19b1f1c8de79",
   "metadata": {},
   "outputs": [],
   "source": [
    "corr=titanic[[\"fare\",\"parch\",\"pclass\",\"survived\"]].corr()\n",
    "#titanic[\"ticket\"].unique\n",
    "corr"
   ]
  },
  {
   "cell_type": "code",
   "execution_count": null,
   "id": "3aeb6498-2939-49f9-84a2-afc7b0f06284",
   "metadata": {},
   "outputs": [],
   "source": [
    "sns.heatmap(data=corr,annot=True);"
   ]
  },
  {
   "cell_type": "code",
   "execution_count": null,
   "id": "81e2f5e1-fe2e-483f-b56a-08e78bb9bcdc",
   "metadata": {},
   "outputs": [],
   "source": [
    "sns.relplot(\n",
    "    data=corr,\n",
    "    x=\"fare\",\n",
    "    y='survived',\n",
    "    #hue=\"gdp_per_cap\",\n",
    "    #size=\"pop\",\n",
    "    #sizes=(100,1000)\n",
    ");\n"
   ]
  },
  {
   "cell_type": "code",
   "execution_count": null,
   "id": "ed98726f-6a11-471e-8734-40243bdc9897",
   "metadata": {},
   "outputs": [],
   "source": [
    "sns.relplot(\n",
    "    data=corr,\n",
    "    x=\"parch\",\n",
    "    y='survived',\n",
    "    #hue=\"gdp_per_cap\",\n",
    "    #size=\"pop\",\n",
    "    #sizes=(100,1000)\n",
    ");"
   ]
  },
  {
   "cell_type": "code",
   "execution_count": null,
   "id": "3986b742-05f0-41a9-a14f-55899f3a2952",
   "metadata": {},
   "outputs": [],
   "source": [
    "sns.relplot(\n",
    "    data=corr,\n",
    "    x=\"fare\",\n",
    "    y='pclass',\n",
    "    #hue=\"gdp_per_cap\",\n",
    "    #size=\"pop\",\n",
    "    #sizes=(100,1000)\n",
    ");"
   ]
  },
  {
   "cell_type": "code",
   "execution_count": null,
   "id": "4fd83203-c8b6-4847-a0b6-ac7b2441e9f8",
   "metadata": {},
   "outputs": [],
   "source": [
    "df.head()\n"
   ]
  },
  {
   "cell_type": "code",
   "execution_count": null,
   "id": "bd320530-4dd4-43dc-89fb-4bc56176bf1c",
   "metadata": {},
   "outputs": [],
   "source": [
    "df.info()"
   ]
  },
  {
   "cell_type": "code",
   "execution_count": null,
   "id": "4c72b553-ba26-44b8-b8af-8005ca9dc34f",
   "metadata": {},
   "outputs": [],
   "source": [
    "df.describe()"
   ]
  },
  {
   "cell_type": "code",
   "execution_count": null,
   "id": "986ddf4c-07e2-434f-a829-9d74d95633a8",
   "metadata": {},
   "outputs": [],
   "source": [
    "df[\"year\"].max()"
   ]
  },
  {
   "cell_type": "markdown",
   "id": "02fe41e1-839b-4156-944f-37af3bcde5af",
   "metadata": {},
   "source": [
    "## Introducing data vis"
   ]
  },
  {
   "cell_type": "markdown",
   "id": "8b9d236b-eb53-4a3d-b18d-c0c2d894bcdc",
   "metadata": {},
   "source": [
    "The following cells introduce diffferent plot types"
   ]
  },
  {
   "cell_type": "code",
   "execution_count": null,
   "id": "ea9a8315-3fab-4e83-81c7-439dbb83ec7e",
   "metadata": {},
   "outputs": [],
   "source": [
    "x=np.linspace(0,0.3,12)\n",
    "y=x**2+2\n",
    "plt.plot(x,y)\n",
    "plt.xlabel(\"random numbers\")\n",
    "plt.ylabel(\"function of random numbers\")\n",
    "plt.title(\"function vs random nums\",color=\"blue\")\n",
    "plt.show()"
   ]
  },
  {
   "cell_type": "code",
   "execution_count": null,
   "id": "93988504-7f02-4a07-ab7d-8fc03e16f75e",
   "metadata": {},
   "outputs": [],
   "source": [
    "#scatter plot\n",
    "x=[5,7,8,9,7,9,8,8,9]\n",
    "y=[71,79,98,89,90,78,80,70,87]\n",
    "plt.scatter(x,y)\n",
    "plt.show()"
   ]
  },
  {
   "cell_type": "code",
   "execution_count": null,
   "id": "b3854795-55bf-4485-b73b-9bd074efeec2",
   "metadata": {},
   "outputs": [],
   "source": [
    "#bar graph\n",
    "categories=['A','B','C','D']\n",
    "values=3,6,4,3\n",
    "plt.bar(categories,values)\n",
    "plt.show()"
   ]
  },
  {
   "cell_type": "code",
   "execution_count": null,
   "id": "0fb888d8-60e7-4346-95d6-be840ccbf533",
   "metadata": {},
   "outputs": [],
   "source": [
    "data=np.random.normal(0,1,100)\n",
    "plt.hist(data,bins=10,color=\"green\")\n",
    "plt.show()"
   ]
  },
  {
   "cell_type": "code",
   "execution_count": null,
   "id": "4b1a126b-bf9c-43fc-b83c-80dd207a3915",
   "metadata": {},
   "outputs": [],
   "source": [
    "\n",
    "# Create subplots (2 rows, 2 columns)\n",
    "fig, axs = plt.subplots(2, 2, figsize=(8, 6))\n",
    "\n",
    "#fig 1\n",
    "x=np.linspace(0,0.3,12)\n",
    "y=x**2+2\n",
    "#plt.plot(x,y)\n",
    "axs[0, 0].plot(x, y)\n",
    "axs[0, 0].set_title(\"line graph \",color=\"blue\")\n",
    "axs[0, 0].set_ylabel(\"y\",color=\"blue\")\n",
    "axs[0, 0].set_xlabel(\"x\")\n",
    "\n",
    "#fig 2\n",
    "x1=[1,3,6,8,4,7,9,4,6,7]\n",
    "y1=[10,33,63,89,45,78,90,45,65,71]\n",
    "axs[0, 1].scatter(x1, y1, color='blue')\n",
    "axs[0, 1].set_title(\"Scatter_practice\",color=\"blue\")\n",
    "axs[0, 1].set_xlabel(\"x1\",color=\"blue\")\n",
    "axs[0, 1].set_ylabel(\"y1\",color=\"blue\")\n",
    "\n",
    "\n",
    "#fig 3\n",
    "categories=['A','B','C','D']\n",
    "values=3,6,4,3\n",
    "axs[1, 0].bar(categories,values, color='skyblue')\n",
    "axs[1, 0].set_title(\"Bar graph\",color=\"blue\")\n",
    "axs[1, 0].set_xlabel(\"categories\",color=\"blue\")\n",
    "axs[1, 0].set_ylabel(\"values\",color=\"blue\")\n",
    "\n",
    "#fig 4\n",
    "data=np.random.normal(0,1,100)\n",
    "axs[1, 1].hist(data,bins=10, color='skyblue')\n",
    "axs[1, 1].set_title(\"histogram \",color=\"blue\")\n",
    "axs[1, 1].set_xlabel(\"x \",color=\"blue\")\n",
    "axs[1, 1].set_ylabel(\"y \",color=\"blue\")\n",
    "\n",
    "# layout\n",
    "plt.tight_layout()\n",
    "plt.show()"
   ]
  },
  {
   "cell_type": "markdown",
   "id": "49624879-e7b9-49c3-b7a9-eda519a417e2",
   "metadata": {},
   "source": [
    "## Scatter plots"
   ]
  },
  {
   "cell_type": "code",
   "execution_count": null,
   "id": "40c882d3-480c-422f-aaa0-bfa4c47ae1d7",
   "metadata": {},
   "outputs": [],
   "source": [
    "#gapminder data\n",
    "df.info()"
   ]
  },
  {
   "cell_type": "code",
   "execution_count": null,
   "id": "35f3a025-eff5-4291-b27c-4deb62ae8f90",
   "metadata": {},
   "outputs": [],
   "source": [
    "df[\"year\"].unique()"
   ]
  },
  {
   "cell_type": "code",
   "execution_count": null,
   "id": "ef3c2c3f-67e8-494e-ae33-3a6238eaf4eb",
   "metadata": {},
   "outputs": [],
   "source": [
    "#extract data of 2002\n",
    "df_2002=df[df[\"year\"]==2002]"
   ]
  },
  {
   "cell_type": "code",
   "execution_count": null,
   "id": "f1889aed-4444-4a7f-a06f-0b1228a5728e",
   "metadata": {},
   "outputs": [],
   "source": [
    "df_2002.head()"
   ]
  },
  {
   "cell_type": "code",
   "execution_count": null,
   "id": "f52c2557-40aa-49e7-a04f-58ea00a859b6",
   "metadata": {},
   "outputs": [],
   "source": [
    "df[df[\"country\"]==\"Kenya\"].info()"
   ]
  },
  {
   "cell_type": "code",
   "execution_count": null,
   "id": "5a30ff44-2c8f-49d5-b8c2-921483da7cee",
   "metadata": {},
   "outputs": [],
   "source": [
    "#extract data for multiple conditions\n",
    "#df_mask=(df[df[\"country\"]==\"Kenya\"]) & (df[df[\"year\"]==\"2002\"])\n",
    "#(df[df[\"year\"]==\"2002\"])"
   ]
  },
  {
   "cell_type": "code",
   "execution_count": null,
   "id": "a588f999-9d1a-43f9-b81c-304cd900e611",
   "metadata": {},
   "outputs": [],
   "source": [
    "#create a figure object\n",
    "fig,axes=plt.subplots(figsize=(8,6))\n",
    "x=df_2002[\"gdp_per_cap\"]\n",
    "y=df_2002['life_exp']\n",
    "data=(x,y)\n",
    "sns.scatterplot(data)\n",
    "plt.xlabel(\"gdp_per_cap\",color=\"blue\")\n",
    "plt.ylabel(\"life_exp\",color=\"blue\")\n",
    "plt.title(\"Life expectancy as a function of GDP per capita for 2002 \",color=\"blue\")\n",
    "plt.legend()\n",
    "plt.show()"
   ]
  },
  {
   "cell_type": "code",
   "execution_count": null,
   "id": "0ce68502-4290-4c54-9387-5a494bc44bbb",
   "metadata": {},
   "outputs": [],
   "source": [
    "#create a figure object\n",
    "fig,axes=plt.subplots(figsize=(8,6))\n",
    "x=df_2002[\"gdp_per_cap\"]\n",
    "y=df_2002['life_exp']\n",
    "gdp=df_2002[\"gdp_per_cap\"]\n",
    "size=(gdp-gdp.min())/gdp.max()*300+20\n",
    "plt.scatter(x,y,s=size,label=\"kenya\")\n",
    "plt.xlabel(\"gdp_per_cap\",color=\"blue\")\n",
    "plt.ylabel(\"life_exp\",color=\"blue\")\n",
    "plt.title(\"Life expectancy as a function of GDP per capita for 2002 \",color=\"skyblue\")\n",
    "plt.legend()\n",
    "plt.show()"
   ]
  },
  {
   "cell_type": "code",
   "execution_count": null,
   "id": "343b8e65-15d8-450e-9fdc-b22248d30437",
   "metadata": {},
   "outputs": [],
   "source": []
  },
  {
   "cell_type": "code",
   "execution_count": null,
   "id": "b4b8d8db-6e0b-47a5-be91-29d7c1beb34b",
   "metadata": {},
   "outputs": [],
   "source": [
    "mask_kenya=df[df[\"country\"]==\"Kenya\"]"
   ]
  },
  {
   "cell_type": "code",
   "execution_count": null,
   "id": "76f6234a-398f-4ee5-a69d-6983db2e4dae",
   "metadata": {},
   "outputs": [],
   "source": [
    "x=mask_kenya[\"gdp_per_cap\"]\n",
    "y=mask_kenya[\"life_exp\"]\n",
    "for year in mask_kenya[\"year\"]:\n",
    "    mask_kenya[mask_kenya[\"year\"]==year]\n",
    "    plt.scatter(x,y,label=year)\n",
    "    \n",
    "sizes=mask_kenya[\"gdp_per_cap\"]/100\n",
    "#plt.scatter(x,y,s=sizes,label=\"kenya\")\n",
    "plt.xlabel(\"gdp_per_cap\",color=\"blue\")\n",
    "plt.ylabel(\"life_exp\",color=\"blue\")\n",
    "plt.title(\"Life expectancy as a function of GDP per capita for Kenya \",color=\"blue\")\n",
    "plt.legend()\n",
    "plt.show()"
   ]
  },
  {
   "cell_type": "code",
   "execution_count": null,
   "id": "c8a52802-6129-426c-8adb-5da1d45dfbbf",
   "metadata": {},
   "outputs": [],
   "source": []
  },
  {
   "cell_type": "code",
   "execution_count": null,
   "id": "e7e8fa34-a473-4785-b2c0-45c61e2da24e",
   "metadata": {},
   "outputs": [],
   "source": [
    "#save the figure to file\n",
    "fig.savefig(\"../data/gapminder_2002.png\")"
   ]
  },
  {
   "cell_type": "code",
   "execution_count": null,
   "id": "44f40968-352e-4f44-80aa-4404cd90fcea",
   "metadata": {},
   "outputs": [],
   "source": [
    "sns.relplot(\n",
    "    data=df_2002,\n",
    "    x=\"gdp_per_cap\",\n",
    "    y='life_exp',\n",
    "    hue=\"continent\",\n",
    "    size=\"pop\",\n",
    "    sizes=(100,1000)\n",
    ");\n"
   ]
  },
  {
   "cell_type": "code",
   "execution_count": null,
   "id": "1ad06ec2-eb88-419e-b6d8-cce60fd1f77c",
   "metadata": {},
   "outputs": [],
   "source": [
    "sns.relplot(\n",
    "    data=mask_kenya,\n",
    "    x=\"year\",\n",
    "    y='life_exp',\n",
    "    hue=\"gdp_per_cap\",\n",
    "    size=\"pop\",\n",
    "    sizes=(100,1000)\n",
    ");"
   ]
  },
  {
   "cell_type": "code",
   "execution_count": null,
   "id": "1bf6e48a-17d4-43e7-b4bd-10f4ba9158e8",
   "metadata": {},
   "outputs": [],
   "source": []
  }
 ],
 "metadata": {
  "kernelspec": {
   "display_name": "Python 3 (ipykernel)",
   "language": "python",
   "name": "python3"
  },
  "language_info": {
   "codemirror_mode": {
    "name": "ipython",
    "version": 3
   },
   "file_extension": ".py",
   "mimetype": "text/x-python",
   "name": "python",
   "nbconvert_exporter": "python",
   "pygments_lexer": "ipython3",
   "version": "3.10.18"
  }
 },
 "nbformat": 4,
 "nbformat_minor": 5
}
